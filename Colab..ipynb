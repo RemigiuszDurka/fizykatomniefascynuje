{
  "cells": [
    {
      "cell_type": "markdown",
      "metadata": {
        "id": "gT8-9LL-CRg0"
      },
      "source": [
        "## **Fizyka to mnie fascynuje 2025**\n",
        "\n",
        "---\n",
        "\n",
        "## **Colab**\n",
        "\n",
        "Colab to usługa **Jupyter Notebook** hostowana przez Google, która nie wymaga konfiguracji i zapewnia darmowy dostęp do zasobów obliczeniowych, w tym procesorów GPU. Colab jest szczególnie przydatny w uczeniu maszynowym, analizie danych i edukacji.\n",
        "\n",
        "Link: [Google Colab](https://colab.research.google.com/)\n",
        "\n",
        "Colab umożliwi nam pracę w ramach pliku Jupyter Notebook (*.ipynb), który zawiera zarówno:\n",
        "\n",
        "- wykonywalny kod Pythona\n",
        "- tekst z dowolnym formatowaniem\n",
        "- tekst matematyczno-fizyczny.\n",
        "\n",
        "Możemy w jego ramach tworzyć interaktywne raporty, prezentacje, animacje.\n",
        "\n",
        "---"
      ]
    },
    {
      "cell_type": "markdown",
      "metadata": {
        "id": "QI-c1qdvCRg1"
      },
      "source": [
        "## **Wprowadzenie do Jupyter Notebook**\n",
        "\n",
        "**Jupyter Notebook** (*.ipynb) to interaktywne środowisko programistyczne, które umożliwia tworzenie i udostępnianie dokumentów zawierających kod, równania, wizualizacje i tekst. Jest to narzędzie do tworzenia raportów, prezentacji oraz nauki programowania.\n",
        "\n",
        "Dłuższe fragmenty tekstu w Jupyter Notebook są pisane w **Markdownie**, który pozwala na formatowanie mateamtycznego tekstu.\n",
        "\n",
        "Poniżej kilka przykładów formatowania w [Markdown](https://www.markdownguide.org/cheat-sheet/) (więcej przykładów: [tutaj](https://quarto.org/docs/authoring/markdown-basics.html) i [tutaj](https://markdown-it.github.io/)). Równania matematyczne są wprowadzane zgodnie z tzw. [LaTeX](https://tilburgsciencehub.com/topics/research-skills/templates-dynamic-content/templates/amsmath-latex-cheatsheet/).\n",
        "\n",
        "**Pamiętaj**, że zawsze **możesz poprosić AI** (ChatGPT lub wbudowany Gemini Copilot) o składnię Markdown lub LaTeX!!! (Np. \"Jak w markdownie dostać ładny ułamek 2/3?\", \"Jak ładnie wstawić link w markdownie?\")\n",
        "\n",
        "Obliczenia matematyczne można wykonywać za pomocą **Pythona**. Składnia Pythona jest przejrzysta i intuicyjna, co pozwala na szybkie tworzenie skryptów i programów. W **Jupyter Notebook** (.ipynb) kod Pythona można uruchamiać w komórkach kodowych.\n",
        "\n",
        "**Pamiętaj**, że będziesz mógł zawsze **możesz poprosić AI** (ChatGPT lub wbudowany Gemini Copilot) o pomoc w Pythonie!!! (Np. \"Jak w Pythonie obliczyć pierwiastek kwadratowy?\", \"Jak w Pythonie stworzyć wykres paraboli o równaniu y = x^2-4?\")\n",
        "\n",
        "Korzystanie z narzędzi AI, takich jak [ChatGPT](https://openai.com/chatgpt), [Gemini](https://www.google.com/search?q=gemini+AI), [Claude](https://www.anthropic.com/claude), może znacznie ułatwić naukę. Te modele językowe oferują szybkie odpowiedzi, wyjaśnienia trudnych koncepcji i pomagają w rozwiązywaniu problemów, umożliwiając interaktywne uczenie się w dowolnym momencie.\n",
        "\n",
        "---"
      ]
    },
    {
      "cell_type": "markdown",
      "metadata": {
        "id": "PDaXyyQrCRg2"
      },
      "source": [
        "### **Wprowadzenie do Markdowna**\n",
        "\n",
        "* `# Nagłówek pierwszego poziomu`\n",
        "* `## Nagłówek drugiego poziomu`\n",
        "* `### Nagłówek trzeciego poziomu`\n",
        "\n",
        "To jest **pogrubiony** tekst, a to jest *kursywa*. Można także połączyć oba style: **_pogrubiona kursywa_**.\n",
        "\n",
        "Można wstawiać listy:\n",
        "- Element 1\n",
        "- Element 2\n",
        "  - Podpunkt 1\n",
        "  - Podpunkt 2\n",
        "\n",
        "Lub listy numerowane:\n",
        "1. Pierwszy krok\n",
        "2. Drugi krok\n",
        "3. Trzeci krok\n",
        "\n",
        "Wstawianie linku: [Odwiedź Google](https://www.google.com)\n",
        "\n",
        "Dodanie obrazu który jest na jakieś zewnętrzej stronie:  \n",
        "![Przykładowy obraz](https://upload.wikimedia.org/wikipedia/commons/thumb/9/95/Copernican_heliocentrism_theory_diagram.svg/1024px-Copernican_heliocentrism_theory_diagram.svg.png).\n",
        "\n",
        "Wstawienie fragmentu kodu w linii: `print(\"Hello World!\")`\n",
        "\n",
        "Blok kodu:\n",
        "\n",
        "```python\n",
        "def funkcja():\n",
        "    print(\"To jest blok kodu w Pythonie.\")\n",
        "```\n",
        "\n",
        "Równania matematyczne w LaTeX:\n",
        "\n",
        "Równanie w linii: $e^{i\\pi} + 1 = 0$\n",
        "\n",
        "Równanie wycentrowane:\n",
        "\n",
        "$$e^{i\\pi} + 1 = 0$$\n",
        "\n",
        "**Uwaga:** zawsze możesz podwójnym kliknięciem lewego przycisku myszy wejść w tryb edycji i zobaczyć jaki kod został użyty by osiągnąć rzeczy, które widzisz powyżej. Potem [Shift]+[Enter] przywróci standardowe wyświetlanie\n",
        "\n",
        "\n",
        "\n",
        "---"
      ]
    },
    {
      "cell_type": "markdown",
      "metadata": {
        "id": "qulZhBmiCRg2"
      },
      "source": [
        "### **Obliczenia numeryczne**\n",
        "\n",
        "#### **Standardowa biblioteka matematyczna Pythona**"
      ]
    },
    {
      "cell_type": "code",
      "execution_count": 1,
      "metadata": {
        "colab": {
          "base_uri": "https://localhost:8080/"
        },
        "id": "8TeF3HgxCRg2",
        "outputId": "d07ea168-99b8-4a86-dcf1-456ac8266eb6"
      },
      "outputs": [
        {
          "output_type": "execute_result",
          "data": {
            "text/plain": [
              "(1024, 1267650600228229401496703205376)"
            ]
          },
          "metadata": {},
          "execution_count": 1
        }
      ],
      "source": [
        "# Python jako kalkulator\n",
        "2**10, 2**100"
      ]
    },
    {
      "cell_type": "code",
      "execution_count": 2,
      "metadata": {
        "colab": {
          "base_uri": "https://localhost:8080/"
        },
        "id": "WgN0hdSkCRg3",
        "outputId": "ff1c74f2-53c5-4658-86a1-318188095528"
      },
      "outputs": [
        {
          "output_type": "stream",
          "name": "stdout",
          "text": [
            "1.2246467991473532e-16\n",
            "1.0\n",
            "1.4142135623730951\n"
          ]
        }
      ],
      "source": [
        "# Aby obliczać bardziej złożone wyrażenia, należy załadować dodatkowe moduły (math, numpy, sympy)\n",
        "import math  # załadowanie modułu matematycznego\n",
        "\n",
        "# Zwracanie wartości sinus oraz pierwiastka z 2\n",
        "print(math.sin(math.pi))\n",
        "print(math.sin(math.pi/2))\n",
        "print(math.sqrt(2))"
      ]
    },
    {
      "cell_type": "code",
      "execution_count": 3,
      "metadata": {
        "colab": {
          "base_uri": "https://localhost:8080/"
        },
        "id": "hoGc4iQ5CRg4",
        "outputId": "5163017d-d5b9-47df-edc9-9efa3b1233cc"
      },
      "outputs": [
        {
          "output_type": "stream",
          "name": "stdout",
          "text": [
            "Pierwiastek kwadratowy z 2 to 1.4142135623730951\n",
            "Sinus 30 stopni to 0.49999999999999994\n"
          ]
        }
      ],
      "source": [
        "# Prezentowanie wyników\n",
        "import math  # moduł matematyczny\n",
        "print(f\"Pierwiastek kwadratowy z 2 to {math.sqrt(2)}\")\n",
        "print(f\"Sinus 30 stopni to {math.sin(math.radians(30))}\")"
      ]
    },
    {
      "cell_type": "markdown",
      "metadata": {
        "id": "jf_Cma-cCRg4"
      },
      "source": [
        "#### **Numeryczna matematyka (NumPy)**\n",
        "\n",
        "Dla bardziej zaawansowanych, wydajnych i precyzyjnych obliczeń stosuje się bibliotekę NumPy. Pozwala ona na wykonywanie operacji na macierzach, wektorach i tablicach wielowymiarowych."
      ]
    },
    {
      "cell_type": "code",
      "execution_count": 4,
      "metadata": {
        "colab": {
          "base_uri": "https://localhost:8080/"
        },
        "id": "8i-kP9KICRg4",
        "outputId": "82496fdc-b2b2-449c-97ef-b5c6b516dbe4"
      },
      "outputs": [
        {
          "output_type": "stream",
          "name": "stdout",
          "text": [
            "Sinus 30 stopni to 0.49999999999999994\n",
            "Logarytm dziesiętny z 2 to 0.3010299956639812\n",
            "Norma wektora [1,1,1,1,1] to 2.23606797749979\n"
          ]
        }
      ],
      "source": [
        "import numpy as np  # Numeryczna biblioteka Pythona\n",
        "print(f\"Sinus 30 stopni to {np.sin(np.radians(30))}\")\n",
        "print(f\"Logarytm dziesiętny z 2 to {np.log10(2)}\")\n",
        "print(f\"Norma wektora [1,1,1,1,1] to {np.linalg.norm([1, 1, 1, 1, 1])}\")"
      ]
    },
    {
      "cell_type": "code",
      "execution_count": 5,
      "metadata": {
        "colab": {
          "base_uri": "https://localhost:8080/"
        },
        "id": "R321KiDxCRg4",
        "outputId": "34b5a4e6-a2fe-47d2-c160-974df1c51427"
      },
      "outputs": [
        {
          "output_type": "stream",
          "name": "stdout",
          "text": [
            "Wyznacznik macierzy A to -2.0000000000000004\n"
          ]
        }
      ],
      "source": [
        "# Wyznaczanie wyznacznika macierzy\n",
        "A = np.array([[1, 2], [3, 4]])\n",
        "print(f\"Wyznacznik macierzy A to {np.linalg.det(A)}\")"
      ]
    },
    {
      "cell_type": "code",
      "execution_count": 6,
      "metadata": {
        "colab": {
          "base_uri": "https://localhost:8080/"
        },
        "id": "kdnWZlm6CRg4",
        "outputId": "a5c28e63-331b-4403-906c-6401cbe94462"
      },
      "outputs": [
        {
          "output_type": "stream",
          "name": "stdout",
          "text": [
            "Rozwiązanie układu Ax=b to x=[-3.  4.]\n"
          ]
        }
      ],
      "source": [
        "# Rozwiązywanie układów równań\n",
        "b = np.array([5, 7])\n",
        "x = np.linalg.solve(A, b)\n",
        "print(f\"Rozwiązanie układu Ax=b to x={x}\")"
      ]
    },
    {
      "cell_type": "code",
      "execution_count": 7,
      "metadata": {
        "colab": {
          "base_uri": "https://localhost:8080/"
        },
        "id": "DlUgSWbfCRg4",
        "outputId": "5a6fb1a3-0c61-427f-9748-a3a30c10b102"
      },
      "outputs": [
        {
          "output_type": "stream",
          "name": "stdout",
          "text": [
            "0.333333333333333314829616256247\n"
          ]
        }
      ],
      "source": [
        "# Niestety, rozwiązania numeryczne są zawsze przybliżone\n",
        "print(f\"{1/3:.30f}\")"
      ]
    },
    {
      "cell_type": "markdown",
      "metadata": {
        "id": "KbR0P4BHCRg5"
      },
      "source": [
        "\n",
        "#### **Obliczenia symboliczne**\n",
        "\n",
        "**SymPy** to biblioteka Pythona do obliczeń symbolicznych, umożliwiająca manipulowanie zmiennymi symbolicznymi, równaniami, funkcjami, pochodnymi, całkami, granicami i macierzami."
      ]
    },
    {
      "cell_type": "code",
      "execution_count": null,
      "metadata": {
        "id": "OMHGn0g6CRg5"
      },
      "outputs": [],
      "source": [
        "# Python umożliwia obliczenia symboliczne\n",
        "import sympy as sp\n",
        "\n",
        "x, y, z = sp.symbols('x y z')  # Deklaracja zmiennych\n",
        "f, g = sp.symbols('f g', cls=sp.Function)  # Deklaracja funkcji"
      ]
    },
    {
      "cell_type": "code",
      "execution_count": null,
      "metadata": {
        "id": "GM2w1xCGCRg5"
      },
      "outputs": [],
      "source": [
        "# Sinus 30 stopni\n",
        "sp.sin(sp.rad(30))  # Wynik dokładny 1/2"
      ]
    },
    {
      "cell_type": "code",
      "execution_count": null,
      "metadata": {
        "id": "-RtGegXMCRg5"
      },
      "outputs": [],
      "source": [
        "# Logarytm naturalny z e\n",
        "sp.log(sp.E)"
      ]
    },
    {
      "cell_type": "code",
      "execution_count": null,
      "metadata": {
        "id": "9rv7tKe0CRg5"
      },
      "outputs": [],
      "source": [
        "# Długość (norma) wektora [1,1,1]\n",
        "v = sp.Matrix([1, 1, 1])\n",
        "v.norm()"
      ]
    },
    {
      "cell_type": "code",
      "execution_count": null,
      "metadata": {
        "id": "vIY3p-oJCRg5"
      },
      "outputs": [],
      "source": [
        "x + y  # Operacje na zmiennych"
      ]
    },
    {
      "cell_type": "code",
      "execution_count": null,
      "metadata": {
        "id": "4njUNwPZCRg5"
      },
      "outputs": [],
      "source": [
        "eq1 = ((x - y)**2).expand()  # Rozwinięcie wyrażenia\n",
        "eq1"
      ]
    },
    {
      "cell_type": "code",
      "execution_count": null,
      "metadata": {
        "id": "VNZlo2ZYCRg5"
      },
      "outputs": [],
      "source": [
        "eq2 = eq1.subs(x, 1)  # Podstawienie wartości\n",
        "eq2"
      ]
    },
    {
      "cell_type": "code",
      "execution_count": null,
      "metadata": {
        "id": "-ePqV8EUCRg5"
      },
      "outputs": [],
      "source": [
        "# Rozwiązanie równania eq2\n",
        "sol = sp.solveset(eq2, y)\n",
        "sol"
      ]
    },
    {
      "cell_type": "code",
      "source": [
        "# Rozwiązanie równania eq2\n",
        "sol = sp.solveset(eq2, y)\n",
        "sol"
      ],
      "metadata": {
        "id": "0KAlQad9CoUo"
      },
      "execution_count": null,
      "outputs": []
    },
    {
      "cell_type": "code",
      "execution_count": null,
      "metadata": {
        "id": "GaVolEmhCRg5"
      },
      "outputs": [],
      "source": [
        "# Różniczkowanie\n",
        "f = sp.sin(x)\n",
        "sp.diff(f, x)"
      ]
    },
    {
      "cell_type": "code",
      "execution_count": null,
      "metadata": {
        "id": "6cuM5xTsCRg5"
      },
      "outputs": [],
      "source": [
        "# Bardziej złożone wyrażenia\n",
        "f = sp.sin(x**sp.cos(x))\n",
        "f"
      ]
    },
    {
      "cell_type": "code",
      "execution_count": null,
      "metadata": {
        "id": "HsrwF5QmCRg6"
      },
      "outputs": [],
      "source": [
        "f.diff(x)"
      ]
    },
    {
      "cell_type": "code",
      "execution_count": null,
      "metadata": {
        "id": "ogKK37S2CRg6"
      },
      "outputs": [],
      "source": [
        "# Całkowanie\n",
        "f = sp.sin(x) * sp.cos(x) * x\n",
        "f.integrate(x)"
      ]
    },
    {
      "cell_type": "code",
      "execution_count": null,
      "metadata": {
        "id": "B4Q1jmePCRg6"
      },
      "outputs": [],
      "source": [
        "# Wykres paraboli\n",
        "f = x**2\n",
        "sp.plot(f);"
      ]
    },
    {
      "cell_type": "code",
      "execution_count": null,
      "metadata": {
        "id": "6B3SurrXCRg6"
      },
      "outputs": [],
      "source": [
        "sp.integrate(x**2, x)"
      ]
    },
    {
      "cell_type": "markdown",
      "source": [
        "## Zadania do przećwiczenia 1\n",
        "\n",
        "Pod tym oknem lub na samym końcu poruszaj kursorem na środku ekranu by zobaczyć: +Kod +Text (to samo masz pod Plik, Edytuj). Umożliwi ci to zrobienie odpowiednio okna do kodu pythona oraz pisanego tekstu.\n",
        "\n",
        "*   Teraz stwórz poniżej okno z Markdownem gdzie będzie Nagłówek \"# Test markdowna\"\n",
        "\n",
        "*   Napisz: Twierdzenie Pitagorasa i poniżej wycentrowany zapis matematyczny z Tw. Pitagorasa.\n",
        "\n",
        "*   Napisz: Link i wklej link z wikipedii o tym temacie."
      ],
      "metadata": {
        "id": "yUCpZbvsCwk-"
      }
    },
    {
      "cell_type": "markdown",
      "source": [
        "## Zadania do przećwiczenia 2\n",
        "\n",
        "Policzmy teraz parę rzeczy. W tym celu tym raz będziemy tworzyli nowe okienka z kodem. Każdy podpunkt wykonaj w osobnym okiendu z kodem. Po napisaniu polecenia uruchom kod ([Shift]+ [Enter] albo ikonka play).\n",
        "\n",
        "*   a) 13+17\n",
        "*   b) pierwiastek kwadratowy z 7\n",
        "*   c) długość wektora [1,2]\n",
        "*   d) 3^10-10^3"
      ],
      "metadata": {
        "id": "Ji7V0JpMDbDa"
      }
    },
    {
      "cell_type": "markdown",
      "source": [
        "## Zadania do przećwiczenia 3\n",
        "\n",
        "Widzisz za pewne również opcję z \"generowaniem\"\n",
        "\n",
        "![image.png](data:image/png;base64,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)\n",
        "\n",
        "*   Spróbuj wygenerować coś poprzez napisanie \"Podaj Kod Pythona, który zrealizuje...\"\n",
        "\n",
        "*   Przetestuj też po prawej stronie panel z Copilotem Gemini: \"Jak w markdownie otrzymać ładny zapis sqrt(7)/3?\""
      ],
      "metadata": {
        "id": "8AsJI0tuFvHk"
      }
    }
  ],
  "metadata": {
    "colab": {
      "provenance": []
    },
    "kernelspec": {
      "display_name": "Python 3",
      "language": "python",
      "name": "python3"
    },
    "language_info": {
      "codemirror_mode": {
        "name": "ipython",
        "version": 3
      },
      "file_extension": ".py",
      "mimetype": "text/x-python",
      "name": "python",
      "nbconvert_exporter": "python",
      "pygments_lexer": "ipython3",
      "version": "3.12.3"
    }
  },
  "nbformat": 4,
  "nbformat_minor": 0
}